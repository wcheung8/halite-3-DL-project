{
 "cells": [
  {
   "cell_type": "code",
   "execution_count": 1,
   "metadata": {},
   "outputs": [],
   "source": [
    "%load_ext autoreload\n",
    "%autoreload 2"
   ]
  },
  {
   "cell_type": "code",
   "execution_count": 2,
   "metadata": {},
   "outputs": [],
   "source": [
    "import os\n",
    "import numpy as np\n",
    "import pandas as pd\n",
    "import parse\n",
    "from model import *"
   ]
  },
  {
   "cell_type": "code",
   "execution_count": 3,
   "metadata": {},
   "outputs": [
    {
     "name": "stdout",
     "output_type": "stream",
     "text": [
      "Load Replay: train\\ts2018-halite-3-gold-replays_replay-20181020-192338+0000-1540063416-40-40-764395.hlt\n",
      "Load Basic Information\n",
      "Load Cell Information\n",
      "Load Player Ships\n",
      "Load Other Player Ships\n",
      "Load Droppoff Information\n",
      "Load Replay: train\\ts2018-halite-3-gold-replays_replay-20181020-192454+0000-1540063480-48-48-764423.hlt\n",
      "Load Basic Information\n",
      "Load Cell Information\n",
      "Load Player Ships\n",
      "Load Other Player Ships\n",
      "Load Droppoff Information\n",
      "Load Replay: train\\ts2018-halite-3-gold-replays_replay-20181020-201720+0000-1540066636-48-48-765185.hlt\n",
      "Load Basic Information\n",
      "Load Cell Information\n",
      "Load Player Ships\n",
      "Load Other Player Ships\n",
      "Load Droppoff Information\n",
      "Load Replay: train\\ts2018-halite-3-gold-replays_replay-20181020-201908+0000-1540066745-40-40-765218.hlt\n",
      "Load Basic Information\n",
      "Load Cell Information\n",
      "Load Player Ships\n",
      "Load Other Player Ships\n",
      "Load Droppoff Information\n",
      "Load Replay: train\\ts2018-halite-3-gold-replays_replay-20181020-202134+0000-1540066858-64-64-765263.hlt\n",
      "Load Basic Information\n",
      "Load Cell Information\n",
      "Load Player Ships\n",
      "Load Other Player Ships\n",
      "Load Droppoff Information\n",
      "Load Replay: train\\ts2018-halite-3-gold-replays_replay-20181020-202416+0000-1540067051-40-40-765295.hlt\n",
      "Load Basic Information\n",
      "Load Cell Information\n",
      "Load Player Ships\n",
      "Load Other Player Ships\n",
      "Load Droppoff Information\n",
      "Load Replay: train\\ts2018-halite-3-gold-replays_replay-20181020-202614+0000-1540067171-48-48-765359.hlt\n",
      "Load Basic Information\n",
      "Load Cell Information\n",
      "Load Player Ships\n",
      "Load Other Player Ships\n",
      "Load Droppoff Information\n",
      "Load Replay: train\\ts2018-halite-3-gold-replays_replay-20181020-203055+0000-1540067362-56-56-765475.hlt\n",
      "Load Basic Information\n",
      "Load Cell Information\n",
      "Load Player Ships\n",
      "Load Other Player Ships\n",
      "Load Droppoff Information\n",
      "Load Replay: train\\ts2018-halite-3-gold-replays_replay-20181020-203407+0000-1540067632-56-56-765576.hlt\n",
      "Load Basic Information\n",
      "Load Cell Information\n",
      "Load Player Ships\n",
      "Load Other Player Ships\n",
      "Load Droppoff Information\n",
      "Load Replay: train\\ts2018-halite-3-gold-replays_replay-20181020-203555+0000-1540067750-40-40-765632.hlt\n",
      "Load Basic Information\n",
      "Load Cell Information\n",
      "Load Player Ships\n",
      "Load Other Player Ships\n",
      "Load Droppoff Information\n",
      "Load Replay: train\\ts2018-halite-3-gold-replays_replay-20181020-204019+0000-1540068013-40-40-765729.hlt\n",
      "Load Basic Information\n",
      "Load Cell Information\n",
      "Load Player Ships\n",
      "Load Other Player Ships\n",
      "Load Droppoff Information\n",
      "Load Replay: train\\ts2018-halite-3-gold-replays_replay-20181020-210646+0000-1540069589-48-48-766197.hlt\n",
      "Load Basic Information\n",
      "Load Cell Information\n",
      "Load Player Ships\n",
      "Load Other Player Ships\n",
      "Load Droppoff Information\n",
      "Load Replay: train\\ts2018-halite-3-gold-replays_replay-20181020-210902+0000-1540069730-48-48-766231.hlt\n",
      "Load Basic Information\n",
      "Load Cell Information\n",
      "Load Player Ships\n",
      "Load Other Player Ships\n",
      "Load Droppoff Information\n",
      "Load Replay: train\\ts2018-halite-3-gold-replays_replay-20181020-210946+0000-1540069718-48-48-766245.hlt\n",
      "Load Basic Information\n",
      "Load Cell Information\n",
      "Load Player Ships\n",
      "Load Other Player Ships\n",
      "Load Droppoff Information\n",
      "Load Replay: train\\ts2018-halite-3-gold-replays_replay-20181020-211026+0000-1540069813-48-48-766277.hlt\n",
      "Load Basic Information\n",
      "Load Cell Information\n",
      "Load Player Ships\n",
      "Load Other Player Ships\n",
      "Load Droppoff Information\n",
      "Load Replay: train\\ts2018-halite-3-gold-replays_replay-20181020-211027+0000-1540069822-64-64-766279.hlt\n",
      "Load Basic Information\n",
      "Load Cell Information\n",
      "Load Player Ships\n",
      "Load Other Player Ships\n",
      "Load Droppoff Information\n",
      "Load Replay: train\\ts2018-halite-3-gold-replays_replay-20181020-211127+0000-1540069769-64-64-766310.hlt\n",
      "Load Basic Information\n",
      "Load Cell Information\n",
      "Load Player Ships\n",
      "Load Other Player Ships\n",
      "Load Droppoff Information\n",
      "Load Replay: train\\ts2018-halite-3-gold-replays_replay-20181020-211154+0000-1540069857-48-48-766314.hlt\n",
      "Load Basic Information\n",
      "Load Cell Information\n",
      "Load Player Ships\n",
      "Load Other Player Ships\n",
      "Load Droppoff Information\n",
      "Load Replay: train\\ts2018-halite-3-gold-replays_replay-20181020-211226+0000-1540069939-56-56-766321.hlt\n",
      "Load Basic Information\n",
      "Load Cell Information\n",
      "Load Player Ships\n",
      "Load Other Player Ships\n",
      "Load Droppoff Information\n",
      "Load Replay: train\\ts2018-halite-3-gold-replays_replay-20181020-211537+0000-1540070133-32-32-766384.hlt\n",
      "Load Basic Information\n",
      "Load Cell Information\n",
      "Load Player Ships\n",
      "Load Other Player Ships\n",
      "Load Droppoff Information\n",
      "Load Replay: train\\ts2018-halite-3-gold-replays_replay-20181020-211633+0000-1540070163-40-40-766404.hlt\n",
      "Load Basic Information\n",
      "Load Cell Information\n",
      "Load Player Ships\n",
      "Load Other Player Ships\n",
      "Load Droppoff Information\n",
      "Load Replay: train\\ts2018-halite-3-gold-replays_replay-20181020-211727+0000-1540070236-40-40-766420.hlt\n",
      "Load Basic Information\n",
      "Load Cell Information\n",
      "Load Player Ships\n",
      "Load Other Player Ships\n",
      "Load Droppoff Information\n",
      "Load Replay: train\\ts2018-halite-3-gold-replays_replay-20181020-221444+0000-1540073672-40-40-767327.hlt\n",
      "Load Basic Information\n",
      "Load Cell Information\n",
      "Load Player Ships\n",
      "Load Other Player Ships\n",
      "Load Droppoff Information\n",
      "Load Replay: train\\ts2018-halite-3-gold-replays_replay-20181020-224107+0000-1540075226-40-40-767843.hlt\n",
      "Load Replay: train\\ts2018-halite-3-gold-replays_replay-20181020-232556+0000-1540077933-56-56-768547.hlt\n",
      "Load Replay: train\\ts2018-halite-3-gold-replays_replay-20181021-000113+0000-1540080067-56-56-769480.hlt\n",
      "Load Replay: train\\ts2018-halite-3-gold-replays_replay-20181021-004955+0000-1540082991-64-64-770191.hlt\n",
      "Load Replay: train\\ts2018-halite-3-gold-replays_replay-20181021-011227+0000-1540084337-32-32-770598.hlt\n",
      "Load Basic Information\n",
      "Load Cell Information\n",
      "Load Player Ships\n",
      "Load Other Player Ships\n",
      "Load Droppoff Information\n",
      "Load Replay: train\\ts2018-halite-3-gold-replays_replay-20181021-011723+0000-1540084568-48-48-770698.hlt\n",
      "Load Basic Information\n",
      "Load Cell Information\n",
      "Load Player Ships\n",
      "Load Other Player Ships\n",
      "Load Droppoff Information\n",
      "Load Replay: train\\ts2018-halite-3-gold-replays_replay-20181021-013919+0000-1540085956-40-40-771073.hlt\n",
      "Load Basic Information\n",
      "Load Cell Information\n",
      "Load Player Ships\n",
      "Load Other Player Ships\n",
      "Load Droppoff Information\n",
      "Load Replay: train\\ts2018-halite-3-gold-replays_replay-20181021-021713+0000-1540088225-64-64-771817.hlt\n",
      "Load Basic Information\n",
      "Load Cell Information\n",
      "Load Player Ships\n",
      "Load Other Player Ships\n",
      "Load Droppoff Information\n",
      "Load Replay: train\\ts2018-halite-3-gold-replays_replay-20181021-025130+0000-1540090285-32-32-772315.hlt\n",
      "Load Basic Information\n",
      "Load Cell Information\n",
      "Load Player Ships\n",
      "Load Other Player Ships\n",
      "Load Droppoff Information\n",
      "Load Replay: train\\ts2018-halite-3-gold-replays_replay-20181021-025513+0000-1540090501-56-56-772353.hlt\n",
      "Load Basic Information\n",
      "Load Cell Information\n",
      "Load Player Ships\n",
      "Load Other Player Ships\n",
      "Load Droppoff Information\n",
      "Load Replay: train\\ts2018-halite-3-gold-replays_replay-20181021-040120+0000-1540094473-40-40-773601.hlt\n",
      "Load Basic Information\n",
      "Load Cell Information\n",
      "Load Player Ships\n",
      "Load Other Player Ships\n",
      "Load Droppoff Information\n",
      "Load Replay: train\\ts2018-halite-3-gold-replays_replay-20181021-045358+0000-1540097552-56-56-774617.hlt\n",
      "Load Basic Information\n",
      "Load Cell Information\n",
      "Load Player Ships\n",
      "Load Other Player Ships\n",
      "Load Droppoff Information\n",
      "Load Replay: train\\ts2018-halite-3-replays_replay-20181020-134324+0000-1540043003-32-32-758094.hlt\n",
      "Load Basic Information\n",
      "Load Cell Information\n",
      "Load Player Ships\n",
      "Load Other Player Ships\n",
      "Load Droppoff Information\n",
      "Load Replay: train\\ts2018-halite-3-replays_replay-20181020-134348+0000-1540043026-40-40-758105.hlt\n",
      "Load Basic Information\n",
      "Load Cell Information\n",
      "Load Player Ships\n",
      "Load Other Player Ships\n",
      "Load Droppoff Information\n",
      "Load Replay: train\\ts2018-halite-3-replays_replay-20181020-134418+0000-1540043055-56-56-758115.hlt\n",
      "Load Basic Information\n",
      "Load Cell Information\n",
      "Load Player Ships\n",
      "Load Other Player Ships\n",
      "Load Droppoff Information\n",
      "Load Replay: train\\ts2018-halite-3-replays_replay-20181020-134709+0000-1540043225-56-56-758161.hlt\n",
      "Load Basic Information\n",
      "Load Cell Information\n",
      "Load Player Ships\n",
      "Load Other Player Ships\n",
      "Load Droppoff Information\n",
      "Load Replay: train\\ts2018-halite-3-replays_replay-20181020-134945+0000-1540043381-48-48-758200.hlt\n",
      "Load Basic Information\n",
      "Load Cell Information\n",
      "Load Player Ships\n",
      "Load Other Player Ships\n",
      "Load Droppoff Information\n",
      "Load Replay: train\\ts2018-halite-3-replays_replay-20181020-134950+0000-1540043387-64-64-758204.hlt\n",
      "Load Basic Information\n",
      "Load Cell Information\n",
      "Load Player Ships\n",
      "Load Other Player Ships\n",
      "Load Droppoff Information\n",
      "Load Replay: train\\ts2018-halite-3-replays_replay-20181020-135152+0000-1540043503-40-40-758247.hlt\n",
      "Load Basic Information\n",
      "Load Cell Information\n",
      "Load Player Ships\n",
      "Load Other Player Ships\n",
      "Load Droppoff Information\n",
      "Load Replay: train\\ts2018-halite-3-replays_replay-20181020-135229+0000-1540043548-32-32-758258.hlt\n",
      "Load Basic Information\n",
      "Load Cell Information\n",
      "Load Player Ships\n",
      "Load Other Player Ships\n",
      "Load Droppoff Information\n",
      "Load Replay: train\\ts2018-halite-3-replays_replay-20181020-135545+0000-1540043742-48-48-758313.hlt\n",
      "Load Basic Information\n",
      "Load Cell Information\n",
      "Load Player Ships\n",
      "Load Other Player Ships\n",
      "Load Droppoff Information\n",
      "Load Replay: train\\ts2018-halite-3-replays_replay-20181020-135743+0000-1540043860-64-64-758342.hlt\n",
      "Load Basic Information\n",
      "Load Cell Information\n",
      "Load Player Ships\n",
      "Load Other Player Ships\n",
      "Load Droppoff Information\n",
      "Load Replay: train\\ts2018-halite-3-replays_replay-20181020-140051+0000-1540044051-32-32-758416.hlt\n",
      "Load Basic Information\n",
      "Load Cell Information\n",
      "Load Player Ships\n",
      "Load Other Player Ships\n",
      "Load Droppoff Information\n",
      "Load Replay: train\\ts2018-halite-3-replays_replay-20181020-140128+0000-1540044086-32-32-758440.hlt\n",
      "Load Basic Information\n",
      "Load Cell Information\n",
      "Load Player Ships\n",
      "Load Other Player Ships\n",
      "Load Droppoff Information\n",
      "Load Replay: train\\ts2018-halite-3-replays_replay-20181020-140654+0000-1540044412-56-56-758514.hlt\n",
      "Load Basic Information\n",
      "Load Cell Information\n",
      "Load Player Ships\n",
      "Load Other Player Ships\n",
      "Load Droppoff Information\n",
      "Load Replay: train\\ts2018-halite-3-replays_replay-20181020-140816+0000-1540044495-40-40-758532.hlt\n",
      "Load Basic Information\n",
      "Load Cell Information\n",
      "Load Player Ships\n",
      "Load Other Player Ships\n",
      "Load Droppoff Information\n",
      "Load Replay: train\\ts2018-halite-3-replays_replay-20181020-141032+0000-1540044630-40-40-758574.hlt\n",
      "Load Basic Information\n",
      "Load Cell Information\n",
      "Load Player Ships\n",
      "Load Other Player Ships\n",
      "Load Droppoff Information\n"
     ]
    }
   ],
   "source": [
    "# replay = os.path.join( \"train\", os.listdir(\"train\")[0])\n",
    "# data = parse.parse_replay_file(replay)\n",
    "\n",
    "data = parse.parse_replay_folder(\"train\", \"teccles\")"
   ]
  },
  {
   "cell_type": "code",
   "execution_count": 4,
   "metadata": {},
   "outputs": [
    {
     "name": "stdout",
     "output_type": "stream",
     "text": [
      "Processing Game States\n",
      "Processing Game States\n",
      "Processing Game States\n",
      "Processing Game States\n",
      "Processing Game States\n",
      "Processing Game States\n",
      "Processing Game States\n",
      "Processing Game States\n",
      "Processing Game States\n",
      "Processing Game States\n",
      "Processing Game States\n",
      "Processing Game States\n",
      "Processing Game States\n",
      "Processing Game States\n",
      "Processing Game States\n",
      "Processing Game States\n",
      "Processing Game States\n",
      "Processing Game States\n",
      "Processing Game States\n",
      "Processing Game States\n",
      "Processing Game States\n",
      "Processing Game States\n",
      "Processing Game States\n",
      "Processing Game States\n",
      "Processing Game States\n",
      "Processing Game States\n",
      "Processing Game States\n",
      "Processing Game States\n",
      "Processing Game States\n",
      "Processing Game States\n",
      "Processing Game States\n",
      "Processing Game States\n",
      "Processing Game States\n",
      "Processing Game States\n",
      "Processing Game States\n",
      "Processing Game States\n",
      "Processing Game States\n",
      "Processing Game States\n",
      "Processing Game States\n",
      "Processing Game States\n",
      "Processing Game States\n",
      "Processing Game States\n",
      "Processing Game States\n",
      "Processing Game States\n",
      "Processing Game States\n",
      "Processing Game States\n",
      "Processing Game States\n",
      "Processing Game States\n",
      "Processing Game States\n",
      "Processing Game States\n"
     ]
    }
   ],
   "source": [
    "game_states = []\n",
    "for player_data in data:\n",
    "    game_states.append(HaliteModel.process_game_states(player_data))\n",
    "        \n",
    "game_states = np.array(game_states)"
   ]
  },
  {
   "cell_type": "code",
   "execution_count": 5,
   "metadata": {
    "scrolled": true
   },
   "outputs": [
    {
     "data": {
      "text/plain": [
       "(50,)"
      ]
     },
     "execution_count": 5,
     "metadata": {},
     "output_type": "execute_result"
    }
   ],
   "source": [
    "game_states.shape"
   ]
  },
  {
   "cell_type": "code",
   "execution_count": 6,
   "metadata": {
    "scrolled": true
   },
   "outputs": [
    {
     "name": "stdout",
     "output_type": "stream",
     "text": [
      "Game 1/50\n",
      "Generating Training Data\n"
     ]
    },
    {
     "data": {
      "application/vnd.jupyter.widget-view+json": {
       "model_id": "ff4c25f3f16f4dff9dc698464f118ac4",
       "version_major": 2,
       "version_minor": 0
      },
      "text/plain": [
       "HBox(children=(IntProgress(value=0, max=2886), HTML(value='')))"
      ]
     },
     "metadata": {},
     "output_type": "display_data"
    },
    {
     "name": "stdout",
     "output_type": "stream",
     "text": [
      "\n",
      "0\n",
      "Game 2/50\n",
      "Generating Training Data\n"
     ]
    },
    {
     "data": {
      "application/vnd.jupyter.widget-view+json": {
       "model_id": "1126a3af0f6d44939c77b497cbe82640",
       "version_major": 2,
       "version_minor": 0
      },
      "text/plain": [
       "HBox(children=(IntProgress(value=0, max=5209), HTML(value='')))"
      ]
     },
     "metadata": {},
     "output_type": "display_data"
    },
    {
     "name": "stdout",
     "output_type": "stream",
     "text": [
      "\n",
      "1\n",
      "Game 3/50\n",
      "Generating Training Data\n"
     ]
    },
    {
     "data": {
      "application/vnd.jupyter.widget-view+json": {
       "model_id": "4babab5e5fdd4836b191872a5ea849dd",
       "version_major": 2,
       "version_minor": 0
      },
      "text/plain": [
       "HBox(children=(IntProgress(value=0, max=2400), HTML(value='')))"
      ]
     },
     "metadata": {},
     "output_type": "display_data"
    },
    {
     "name": "stdout",
     "output_type": "stream",
     "text": [
      "\n",
      "2\n",
      "Game 4/50\n",
      "Generating Training Data\n"
     ]
    },
    {
     "data": {
      "application/vnd.jupyter.widget-view+json": {
       "model_id": "8077c329f8cd483c9d3976748b27cc9e",
       "version_major": 2,
       "version_minor": 0
      },
      "text/plain": [
       "HBox(children=(IntProgress(value=0, max=4039), HTML(value='')))"
      ]
     },
     "metadata": {},
     "output_type": "display_data"
    },
    {
     "name": "stdout",
     "output_type": "stream",
     "text": [
      "\n",
      "3\n",
      "Game 5/50\n",
      "Generating Training Data\n"
     ]
    },
    {
     "data": {
      "application/vnd.jupyter.widget-view+json": {
       "model_id": "e8c6e9e738994824bc2b8fe67c681fdb",
       "version_major": 2,
       "version_minor": 0
      },
      "text/plain": [
       "HBox(children=(IntProgress(value=0, max=4967), HTML(value='')))"
      ]
     },
     "metadata": {},
     "output_type": "display_data"
    },
    {
     "name": "stdout",
     "output_type": "stream",
     "text": [
      "\n",
      "4\n",
      "Game 6/50\n",
      "Generating Training Data\n"
     ]
    },
    {
     "data": {
      "application/vnd.jupyter.widget-view+json": {
       "model_id": "61eaef77fb8a4a488d5a6510e430c6cb",
       "version_major": 2,
       "version_minor": 0
      },
      "text/plain": [
       "HBox(children=(IntProgress(value=0, max=1714), HTML(value='')))"
      ]
     },
     "metadata": {},
     "output_type": "display_data"
    },
    {
     "name": "stdout",
     "output_type": "stream",
     "text": [
      "\n",
      "5\n",
      "Game 7/50\n",
      "Generating Training Data\n"
     ]
    },
    {
     "data": {
      "application/vnd.jupyter.widget-view+json": {
       "model_id": "3841f7a7d8c9441d8d54abc72ac5f156",
       "version_major": 2,
       "version_minor": 0
      },
      "text/plain": [
       "HBox(children=(IntProgress(value=0, max=6016), HTML(value='')))"
      ]
     },
     "metadata": {},
     "output_type": "display_data"
    },
    {
     "name": "stdout",
     "output_type": "stream",
     "text": [
      "\n",
      "6\n",
      "Game 8/50\n",
      "Generating Training Data\n"
     ]
    },
    {
     "data": {
      "application/vnd.jupyter.widget-view+json": {
       "model_id": "44a1dbf8c2e84fd68d457a0db3543fab",
       "version_major": 2,
       "version_minor": 0
      },
      "text/plain": [
       "HBox(children=(IntProgress(value=0, max=4887), HTML(value='')))"
      ]
     },
     "metadata": {},
     "output_type": "display_data"
    },
    {
     "name": "stdout",
     "output_type": "stream",
     "text": [
      "\n",
      "7\n",
      "Game 9/50\n",
      "Generating Training Data\n"
     ]
    },
    {
     "data": {
      "application/vnd.jupyter.widget-view+json": {
       "model_id": "0069787289af41728302a748b326b150",
       "version_major": 2,
       "version_minor": 0
      },
      "text/plain": [
       "HBox(children=(IntProgress(value=0, max=3927), HTML(value='')))"
      ]
     },
     "metadata": {},
     "output_type": "display_data"
    },
    {
     "name": "stdout",
     "output_type": "stream",
     "text": [
      "\n",
      "8\n",
      "Game 10/50\n",
      "Generating Training Data\n"
     ]
    },
    {
     "data": {
      "application/vnd.jupyter.widget-view+json": {
       "model_id": "e3d983f7ef59477691ce29418c801fdc",
       "version_major": 2,
       "version_minor": 0
      },
      "text/plain": [
       "HBox(children=(IntProgress(value=0, max=3992), HTML(value='')))"
      ]
     },
     "metadata": {},
     "output_type": "display_data"
    },
    {
     "name": "stdout",
     "output_type": "stream",
     "text": [
      "\n",
      "9\n",
      "Game 11/50\n",
      "Generating Training Data\n"
     ]
    },
    {
     "data": {
      "application/vnd.jupyter.widget-view+json": {
       "model_id": "6d2cbf2148894cc28d0b58c2b316ee41",
       "version_major": 2,
       "version_minor": 0
      },
      "text/plain": [
       "HBox(children=(IntProgress(value=0, max=2537), HTML(value='')))"
      ]
     },
     "metadata": {},
     "output_type": "display_data"
    },
    {
     "name": "stdout",
     "output_type": "stream",
     "text": [
      "\n",
      "10\n",
      "Game 12/50\n",
      "Generating Training Data\n"
     ]
    },
    {
     "data": {
      "application/vnd.jupyter.widget-view+json": {
       "model_id": "e2712e87989c46a0b848a037d8c76070",
       "version_major": 2,
       "version_minor": 0
      },
      "text/plain": [
       "HBox(children=(IntProgress(value=0, max=4921), HTML(value='')))"
      ]
     },
     "metadata": {},
     "output_type": "display_data"
    },
    {
     "name": "stdout",
     "output_type": "stream",
     "text": [
      "\n",
      "11\n",
      "Game 13/50\n",
      "Generating Training Data\n"
     ]
    },
    {
     "data": {
      "application/vnd.jupyter.widget-view+json": {
       "model_id": "ff64308a8dd5463181302c3839737ab4",
       "version_major": 2,
       "version_minor": 0
      },
      "text/plain": [
       "HBox(children=(IntProgress(value=0, max=2164), HTML(value='')))"
      ]
     },
     "metadata": {},
     "output_type": "display_data"
    },
    {
     "name": "stdout",
     "output_type": "stream",
     "text": [
      "\n",
      "12\n",
      "Game 14/50\n",
      "Generating Training Data\n"
     ]
    },
    {
     "data": {
      "application/vnd.jupyter.widget-view+json": {
       "model_id": "c5805207949a404e862b48bc7a999c2d",
       "version_major": 2,
       "version_minor": 0
      },
      "text/plain": [
       "HBox(children=(IntProgress(value=0, max=1915), HTML(value='')))"
      ]
     },
     "metadata": {},
     "output_type": "display_data"
    },
    {
     "name": "stdout",
     "output_type": "stream",
     "text": [
      "\n",
      "13\n",
      "Game 15/50\n",
      "Generating Training Data\n"
     ]
    },
    {
     "data": {
      "application/vnd.jupyter.widget-view+json": {
       "model_id": "febde07a49cb431e91325d08768a2d9a",
       "version_major": 2,
       "version_minor": 0
      },
      "text/plain": [
       "HBox(children=(IntProgress(value=0, max=2576), HTML(value='')))"
      ]
     },
     "metadata": {},
     "output_type": "display_data"
    },
    {
     "name": "stdout",
     "output_type": "stream",
     "text": [
      "\n",
      "14\n",
      "Game 16/50\n",
      "Generating Training Data\n"
     ]
    },
    {
     "data": {
      "application/vnd.jupyter.widget-view+json": {
       "model_id": "32417a055b0b4e4cb19ac3c5465e2dc0",
       "version_major": 2,
       "version_minor": 0
      },
      "text/plain": [
       "HBox(children=(IntProgress(value=0, max=5298), HTML(value='')))"
      ]
     },
     "metadata": {},
     "output_type": "display_data"
    },
    {
     "name": "stdout",
     "output_type": "stream",
     "text": [
      "\n",
      "15\n",
      "Game 17/50\n",
      "Generating Training Data\n"
     ]
    },
    {
     "data": {
      "application/vnd.jupyter.widget-view+json": {
       "model_id": "c53a7b7290ad43dd94a68281c0307a63",
       "version_major": 2,
       "version_minor": 0
      },
      "text/plain": [
       "HBox(children=(IntProgress(value=0, max=4224), HTML(value='')))"
      ]
     },
     "metadata": {},
     "output_type": "display_data"
    },
    {
     "name": "stdout",
     "output_type": "stream",
     "text": [
      "\n",
      "16\n",
      "Game 18/50\n",
      "Generating Training Data\n"
     ]
    },
    {
     "data": {
      "application/vnd.jupyter.widget-view+json": {
       "model_id": "4e014f9e0e9647b8903908a9fe3478d5",
       "version_major": 2,
       "version_minor": 0
      },
      "text/plain": [
       "HBox(children=(IntProgress(value=0, max=4331), HTML(value='')))"
      ]
     },
     "metadata": {},
     "output_type": "display_data"
    },
    {
     "name": "stdout",
     "output_type": "stream",
     "text": [
      "\n",
      "17\n",
      "Game 19/50\n",
      "Generating Training Data\n"
     ]
    },
    {
     "data": {
      "application/vnd.jupyter.widget-view+json": {
       "model_id": "d3bb9b1eb8054da580c57baa4105e8d6",
       "version_major": 2,
       "version_minor": 0
      },
      "text/plain": [
       "HBox(children=(IntProgress(value=0, max=2974), HTML(value='')))"
      ]
     },
     "metadata": {},
     "output_type": "display_data"
    },
    {
     "name": "stdout",
     "output_type": "stream",
     "text": [
      "\n",
      "18\n",
      "Game 20/50\n",
      "Generating Training Data\n"
     ]
    },
    {
     "data": {
      "application/vnd.jupyter.widget-view+json": {
       "model_id": "52a473b3ca444596a45b868845a5501d",
       "version_major": 2,
       "version_minor": 0
      },
      "text/plain": [
       "HBox(children=(IntProgress(value=0, max=1522), HTML(value='')))"
      ]
     },
     "metadata": {},
     "output_type": "display_data"
    },
    {
     "name": "stdout",
     "output_type": "stream",
     "text": [
      "\n",
      "19\n",
      "Game 21/50\n",
      "Generating Training Data\n"
     ]
    },
    {
     "data": {
      "application/vnd.jupyter.widget-view+json": {
       "model_id": "f1919e791b1a49b0bb0f7b4a23b47866",
       "version_major": 2,
       "version_minor": 0
      },
      "text/plain": [
       "HBox(children=(IntProgress(value=0, max=2633), HTML(value='')))"
      ]
     },
     "metadata": {},
     "output_type": "display_data"
    },
    {
     "name": "stdout",
     "output_type": "stream",
     "text": [
      "\n",
      "20\n",
      "Game 22/50\n",
      "Generating Training Data\n"
     ]
    },
    {
     "data": {
      "application/vnd.jupyter.widget-view+json": {
       "model_id": "b58a75fd4185486181b81125b1f6c92f",
       "version_major": 2,
       "version_minor": 0
      },
      "text/plain": [
       "HBox(children=(IntProgress(value=0, max=3619), HTML(value='')))"
      ]
     },
     "metadata": {},
     "output_type": "display_data"
    },
    {
     "name": "stdout",
     "output_type": "stream",
     "text": [
      "\n",
      "21\n",
      "Game 23/50\n",
      "Generating Training Data\n"
     ]
    },
    {
     "data": {
      "application/vnd.jupyter.widget-view+json": {
       "model_id": "a6bf795df2ad4536baab52f569399248",
       "version_major": 2,
       "version_minor": 0
      },
      "text/plain": [
       "HBox(children=(IntProgress(value=0, max=3429), HTML(value='')))"
      ]
     },
     "metadata": {},
     "output_type": "display_data"
    },
    {
     "name": "stdout",
     "output_type": "stream",
     "text": [
      "\n",
      "22\n",
      "Game 24/50\n",
      "Generating Training Data\n"
     ]
    },
    {
     "data": {
      "application/vnd.jupyter.widget-view+json": {
       "model_id": "311ac7231d154d48a92e5dfdb0d3eb2c",
       "version_major": 2,
       "version_minor": 0
      },
      "text/plain": [
       "HBox(children=(IntProgress(value=1, bar_style='info', max=1), HTML(value='')))"
      ]
     },
     "metadata": {},
     "output_type": "display_data"
    },
    {
     "name": "stdout",
     "output_type": "stream",
     "text": [
      "\n",
      "23\n",
      "Game 25/50\n",
      "Generating Training Data\n"
     ]
    },
    {
     "data": {
      "application/vnd.jupyter.widget-view+json": {
       "model_id": "c9fc9d717f7448948e278671f67e0dcb",
       "version_major": 2,
       "version_minor": 0
      },
      "text/plain": [
       "HBox(children=(IntProgress(value=1, bar_style='info', max=1), HTML(value='')))"
      ]
     },
     "metadata": {},
     "output_type": "display_data"
    },
    {
     "name": "stdout",
     "output_type": "stream",
     "text": [
      "\n",
      "24\n",
      "Game 26/50\n",
      "Generating Training Data\n"
     ]
    },
    {
     "data": {
      "application/vnd.jupyter.widget-view+json": {
       "model_id": "019dc5c7326f4eb290c01e70a9c7457d",
       "version_major": 2,
       "version_minor": 0
      },
      "text/plain": [
       "HBox(children=(IntProgress(value=1, bar_style='info', max=1), HTML(value='')))"
      ]
     },
     "metadata": {},
     "output_type": "display_data"
    },
    {
     "name": "stdout",
     "output_type": "stream",
     "text": [
      "\n",
      "25\n",
      "Game 27/50\n",
      "Generating Training Data\n"
     ]
    },
    {
     "data": {
      "application/vnd.jupyter.widget-view+json": {
       "model_id": "26efd6e01b04433f9c5faff756db7d38",
       "version_major": 2,
       "version_minor": 0
      },
      "text/plain": [
       "HBox(children=(IntProgress(value=1, bar_style='info', max=1), HTML(value='')))"
      ]
     },
     "metadata": {},
     "output_type": "display_data"
    },
    {
     "name": "stdout",
     "output_type": "stream",
     "text": [
      "\n",
      "26\n",
      "Game 28/50\n",
      "Generating Training Data\n"
     ]
    },
    {
     "data": {
      "application/vnd.jupyter.widget-view+json": {
       "model_id": "00e80e57da9246feaf7c595db087d9a6",
       "version_major": 2,
       "version_minor": 0
      },
      "text/plain": [
       "HBox(children=(IntProgress(value=0, max=3995), HTML(value='')))"
      ]
     },
     "metadata": {},
     "output_type": "display_data"
    },
    {
     "name": "stdout",
     "output_type": "stream",
     "text": [
      "\n",
      "27\n",
      "Game 29/50\n",
      "Generating Training Data\n"
     ]
    },
    {
     "data": {
      "application/vnd.jupyter.widget-view+json": {
       "model_id": "7e17fede15b446a18071943876e59c64",
       "version_major": 2,
       "version_minor": 0
      },
      "text/plain": [
       "HBox(children=(IntProgress(value=0, max=3661), HTML(value='')))"
      ]
     },
     "metadata": {},
     "output_type": "display_data"
    },
    {
     "name": "stdout",
     "output_type": "stream",
     "text": [
      "\n",
      "28\n",
      "Game 30/50\n",
      "Generating Training Data\n"
     ]
    },
    {
     "data": {
      "application/vnd.jupyter.widget-view+json": {
       "model_id": "38e2b200c2414dc090aec3d3a6fae504",
       "version_major": 2,
       "version_minor": 0
      },
      "text/plain": [
       "HBox(children=(IntProgress(value=0, max=2299), HTML(value='')))"
      ]
     },
     "metadata": {},
     "output_type": "display_data"
    },
    {
     "name": "stdout",
     "output_type": "stream",
     "text": [
      "\n",
      "29\n",
      "Game 31/50\n",
      "Generating Training Data\n"
     ]
    },
    {
     "data": {
      "application/vnd.jupyter.widget-view+json": {
       "model_id": "086c57ee29374151a74e35b40d5d3d37",
       "version_major": 2,
       "version_minor": 0
      },
      "text/plain": [
       "HBox(children=(IntProgress(value=0, max=5355), HTML(value='')))"
      ]
     },
     "metadata": {},
     "output_type": "display_data"
    },
    {
     "name": "stdout",
     "output_type": "stream",
     "text": [
      "\n",
      "30\n",
      "Game 32/50\n",
      "Generating Training Data\n"
     ]
    },
    {
     "data": {
      "application/vnd.jupyter.widget-view+json": {
       "model_id": "944200cb057141d286905ea876a5a1b6",
       "version_major": 2,
       "version_minor": 0
      },
      "text/plain": [
       "HBox(children=(IntProgress(value=0, max=1403), HTML(value='')))"
      ]
     },
     "metadata": {},
     "output_type": "display_data"
    },
    {
     "name": "stdout",
     "output_type": "stream",
     "text": [
      "\n",
      "31\n",
      "Game 33/50\n",
      "Generating Training Data\n"
     ]
    },
    {
     "data": {
      "application/vnd.jupyter.widget-view+json": {
       "model_id": "653faa2c0e114ad7a1aaea912b420244",
       "version_major": 2,
       "version_minor": 0
      },
      "text/plain": [
       "HBox(children=(IntProgress(value=0, max=4222), HTML(value='')))"
      ]
     },
     "metadata": {},
     "output_type": "display_data"
    },
    {
     "name": "stdout",
     "output_type": "stream",
     "text": [
      "\n",
      "32\n",
      "Game 34/50\n",
      "Generating Training Data\n"
     ]
    },
    {
     "data": {
      "application/vnd.jupyter.widget-view+json": {
       "model_id": "0531cd1585504763a41465778945d803",
       "version_major": 2,
       "version_minor": 0
      },
      "text/plain": [
       "HBox(children=(IntProgress(value=0, max=4529), HTML(value='')))"
      ]
     },
     "metadata": {},
     "output_type": "display_data"
    },
    {
     "name": "stdout",
     "output_type": "stream",
     "text": [
      "\n",
      "33\n",
      "Game 35/50\n",
      "Generating Training Data\n"
     ]
    },
    {
     "data": {
      "application/vnd.jupyter.widget-view+json": {
       "model_id": "fd558120eb094d05b38cef4d2733da57",
       "version_major": 2,
       "version_minor": 0
      },
      "text/plain": [
       "HBox(children=(IntProgress(value=0, max=4084), HTML(value='')))"
      ]
     },
     "metadata": {},
     "output_type": "display_data"
    },
    {
     "name": "stdout",
     "output_type": "stream",
     "text": [
      "\n",
      "34\n",
      "Game 36/50\n",
      "Generating Training Data\n"
     ]
    },
    {
     "data": {
      "application/vnd.jupyter.widget-view+json": {
       "model_id": "aee224d3c9a14d86b54196c011ce742f",
       "version_major": 2,
       "version_minor": 0
      },
      "text/plain": [
       "HBox(children=(IntProgress(value=0, max=201), HTML(value='')))"
      ]
     },
     "metadata": {},
     "output_type": "display_data"
    },
    {
     "name": "stdout",
     "output_type": "stream",
     "text": [
      "\n",
      "35\n",
      "Game 37/50\n",
      "Generating Training Data\n"
     ]
    },
    {
     "data": {
      "application/vnd.jupyter.widget-view+json": {
       "model_id": "d05dcd495ca44a7c8f57ecd6dd722d1a",
       "version_major": 2,
       "version_minor": 0
      },
      "text/plain": [
       "HBox(children=(IntProgress(value=0, max=202), HTML(value='')))"
      ]
     },
     "metadata": {},
     "output_type": "display_data"
    },
    {
     "name": "stdout",
     "output_type": "stream",
     "text": [
      "\n",
      "36\n",
      "Game 38/50\n",
      "Generating Training Data\n"
     ]
    },
    {
     "data": {
      "application/vnd.jupyter.widget-view+json": {
       "model_id": "ede37fa3c833442d81fd6a22f254b31a",
       "version_major": 2,
       "version_minor": 0
      },
      "text/plain": [
       "HBox(children=(IntProgress(value=0, max=247), HTML(value='')))"
      ]
     },
     "metadata": {},
     "output_type": "display_data"
    },
    {
     "name": "stdout",
     "output_type": "stream",
     "text": [
      "\n",
      "37\n",
      "Game 39/50\n",
      "Generating Training Data\n"
     ]
    },
    {
     "data": {
      "application/vnd.jupyter.widget-view+json": {
       "model_id": "cde9c4fb11f247b6aa5eadf5cfb98680",
       "version_major": 2,
       "version_minor": 0
      },
      "text/plain": [
       "HBox(children=(IntProgress(value=0, max=189), HTML(value='')))"
      ]
     },
     "metadata": {},
     "output_type": "display_data"
    },
    {
     "name": "stdout",
     "output_type": "stream",
     "text": [
      "\n",
      "38\n",
      "Game 40/50\n",
      "Generating Training Data\n"
     ]
    },
    {
     "data": {
      "application/vnd.jupyter.widget-view+json": {
       "model_id": "8d84af5b7abf469583e7287647fb9980",
       "version_major": 2,
       "version_minor": 0
      },
      "text/plain": [
       "HBox(children=(IntProgress(value=0, max=109), HTML(value='')))"
      ]
     },
     "metadata": {},
     "output_type": "display_data"
    },
    {
     "name": "stdout",
     "output_type": "stream",
     "text": [
      "\n",
      "39\n",
      "Game 41/50\n",
      "Generating Training Data\n"
     ]
    },
    {
     "data": {
      "application/vnd.jupyter.widget-view+json": {
       "model_id": "6f57937a5e0c4a46a390bbde6bf5bfb1",
       "version_major": 2,
       "version_minor": 0
      },
      "text/plain": [
       "HBox(children=(IntProgress(value=0, max=265), HTML(value='')))"
      ]
     },
     "metadata": {},
     "output_type": "display_data"
    },
    {
     "name": "stdout",
     "output_type": "stream",
     "text": [
      "\n",
      "40\n",
      "Game 42/50\n",
      "Generating Training Data\n"
     ]
    },
    {
     "data": {
      "application/vnd.jupyter.widget-view+json": {
       "model_id": "8a701b5c7ea3439b8dd2d217f1875ec3",
       "version_major": 2,
       "version_minor": 0
      },
      "text/plain": [
       "HBox(children=(IntProgress(value=0, max=206), HTML(value='')))"
      ]
     },
     "metadata": {},
     "output_type": "display_data"
    },
    {
     "name": "stdout",
     "output_type": "stream",
     "text": [
      "\n",
      "41\n",
      "Game 43/50\n",
      "Generating Training Data\n"
     ]
    },
    {
     "data": {
      "application/vnd.jupyter.widget-view+json": {
       "model_id": "a8e78aef8ede49cc95d0c0897707dbb1",
       "version_major": 2,
       "version_minor": 0
      },
      "text/plain": [
       "HBox(children=(IntProgress(value=0, max=218), HTML(value='')))"
      ]
     },
     "metadata": {},
     "output_type": "display_data"
    },
    {
     "name": "stdout",
     "output_type": "stream",
     "text": [
      "\n",
      "42\n",
      "Game 44/50\n",
      "Generating Training Data\n"
     ]
    },
    {
     "data": {
      "application/vnd.jupyter.widget-view+json": {
       "model_id": "79b28456e74340fea865b06a91f0a44a",
       "version_major": 2,
       "version_minor": 0
      },
      "text/plain": [
       "HBox(children=(IntProgress(value=0, max=180), HTML(value='')))"
      ]
     },
     "metadata": {},
     "output_type": "display_data"
    },
    {
     "name": "stdout",
     "output_type": "stream",
     "text": [
      "\n",
      "43\n",
      "Game 45/50\n",
      "Generating Training Data\n"
     ]
    },
    {
     "data": {
      "application/vnd.jupyter.widget-view+json": {
       "model_id": "76682eb77d4e48e28c94bae4cd052071",
       "version_major": 2,
       "version_minor": 0
      },
      "text/plain": [
       "HBox(children=(IntProgress(value=0, max=245), HTML(value='')))"
      ]
     },
     "metadata": {},
     "output_type": "display_data"
    },
    {
     "name": "stdout",
     "output_type": "stream",
     "text": [
      "\n",
      "44\n",
      "Game 46/50\n",
      "Generating Training Data\n"
     ]
    },
    {
     "data": {
      "application/vnd.jupyter.widget-view+json": {
       "model_id": "54fb3f9606fc45e79ed5f225e24f4630",
       "version_major": 2,
       "version_minor": 0
      },
      "text/plain": [
       "HBox(children=(IntProgress(value=0, max=192), HTML(value='')))"
      ]
     },
     "metadata": {},
     "output_type": "display_data"
    },
    {
     "name": "stdout",
     "output_type": "stream",
     "text": [
      "\n",
      "45\n",
      "Game 47/50\n",
      "Generating Training Data\n"
     ]
    },
    {
     "data": {
      "application/vnd.jupyter.widget-view+json": {
       "model_id": "68eb5508ff134c8a94858ee0c563d1c1",
       "version_major": 2,
       "version_minor": 0
      },
      "text/plain": [
       "HBox(children=(IntProgress(value=0, max=180), HTML(value='')))"
      ]
     },
     "metadata": {},
     "output_type": "display_data"
    },
    {
     "name": "stdout",
     "output_type": "stream",
     "text": [
      "\n",
      "46\n",
      "Game 48/50\n",
      "Generating Training Data\n"
     ]
    },
    {
     "data": {
      "application/vnd.jupyter.widget-view+json": {
       "model_id": "cab50137cc0a4c59948f2aad2f826574",
       "version_major": 2,
       "version_minor": 0
      },
      "text/plain": [
       "HBox(children=(IntProgress(value=0, max=236), HTML(value='')))"
      ]
     },
     "metadata": {},
     "output_type": "display_data"
    },
    {
     "name": "stdout",
     "output_type": "stream",
     "text": [
      "\n",
      "47\n",
      "Game 49/50\n",
      "Generating Training Data\n"
     ]
    },
    {
     "data": {
      "application/vnd.jupyter.widget-view+json": {
       "model_id": "bcbdcfdf5c89460fb67b327f031436d8",
       "version_major": 2,
       "version_minor": 0
      },
      "text/plain": [
       "HBox(children=(IntProgress(value=0, max=208), HTML(value='')))"
      ]
     },
     "metadata": {},
     "output_type": "display_data"
    },
    {
     "name": "stdout",
     "output_type": "stream",
     "text": [
      "\n",
      "48\n",
      "Game 50/50\n",
      "Generating Training Data\n"
     ]
    },
    {
     "data": {
      "application/vnd.jupyter.widget-view+json": {
       "model_id": "9fc614ea38be4e2b9b658634cf4fe55d",
       "version_major": 2,
       "version_minor": 0
      },
      "text/plain": [
       "HBox(children=(IntProgress(value=0, max=223), HTML(value='')))"
      ]
     },
     "metadata": {},
     "output_type": "display_data"
    },
    {
     "name": "stdout",
     "output_type": "stream",
     "text": [
      "\n",
      "49\n"
     ]
    }
   ],
   "source": [
    "m = HaliteModel(data=data)\n",
    "features, labels = [], []\n",
    "\n",
    "for i, game in enumerate(game_states):\n",
    "    print(f\"Game {i+1}/{len(game_states)}\")\n",
    "    f, l = m.generate_training_data(game)\n",
    "    \n",
    "    features.extend(f)\n",
    "    labels.extend(l)\n",
    "    print(i)\n",
    "    "
   ]
  },
  {
   "cell_type": "code",
   "execution_count": 7,
   "metadata": {},
   "outputs": [
    {
     "data": {
      "text/plain": [
       "((341736, 78), (341736,))"
      ]
     },
     "execution_count": 7,
     "metadata": {},
     "output_type": "execute_result"
    }
   ],
   "source": [
    "features = np.array(features)\n",
    "labels = np.array(labels)\n",
    "\n",
    "features.shape, labels.shape"
   ]
  },
  {
   "cell_type": "code",
   "execution_count": 8,
   "metadata": {},
   "outputs": [],
   "source": [
    "np.save(\"features\", features)\n",
    "np.save(\"labels\", labels)"
   ]
  },
  {
   "cell_type": "code",
   "execution_count": 9,
   "metadata": {},
   "outputs": [],
   "source": [
    "from sklearn.neural_network import MLPClassifier\n",
    "from sklearn.model_selection import train_test_split\n",
    "from sklearn.metrics import accuracy_score"
   ]
  },
  {
   "cell_type": "code",
   "execution_count": 10,
   "metadata": {},
   "outputs": [],
   "source": [
    "X_train, X_test, y_train, y_test = train_test_split(features, labels, test_size=0.65)"
   ]
  },
  {
   "cell_type": "markdown",
   "metadata": {},
   "source": [
    "No noticeable improvement found when regularizing."
   ]
  },
  {
   "cell_type": "code",
   "execution_count": 1,
   "metadata": {},
   "outputs": [
    {
     "ename": "NameError",
     "evalue": "name 'MLPClassifier' is not defined",
     "output_type": "error",
     "traceback": [
      "\u001b[1;31m---------------------------------------------------------------------------\u001b[0m",
      "\u001b[1;31mNameError\u001b[0m                                 Traceback (most recent call last)",
      "\u001b[1;32m<ipython-input-1-cc2dccdebbb1>\u001b[0m in \u001b[0;36m<module>\u001b[1;34m\u001b[0m\n\u001b[1;32m----> 1\u001b[1;33m \u001b[0mmodel\u001b[0m \u001b[1;33m=\u001b[0m \u001b[0mMLPClassifier\u001b[0m\u001b[1;33m(\u001b[0m\u001b[0msolver\u001b[0m\u001b[1;33m=\u001b[0m\u001b[1;34m\"adam\"\u001b[0m\u001b[1;33m,\u001b[0m \u001b[0mhidden_layer_sizes\u001b[0m\u001b[1;33m=\u001b[0m\u001b[1;33m(\u001b[0m\u001b[1;36m256\u001b[0m\u001b[1;33m,\u001b[0m \u001b[1;36m128\u001b[0m\u001b[1;33m,\u001b[0m \u001b[1;36m64\u001b[0m\u001b[1;33m,\u001b[0m \u001b[1;36m32\u001b[0m\u001b[1;33m)\u001b[0m\u001b[1;33m)\u001b[0m\u001b[1;33m\u001b[0m\u001b[1;33m\u001b[0m\u001b[0m\n\u001b[0m\u001b[0;32m      2\u001b[0m \u001b[0mmodel\u001b[0m\u001b[1;33m.\u001b[0m\u001b[0mfit\u001b[0m\u001b[1;33m(\u001b[0m\u001b[0mX_train\u001b[0m\u001b[1;33m,\u001b[0m \u001b[0my_train\u001b[0m\u001b[1;33m)\u001b[0m\u001b[1;33m\u001b[0m\u001b[1;33m\u001b[0m\u001b[0m\n",
      "\u001b[1;31mNameError\u001b[0m: name 'MLPClassifier' is not defined"
     ]
    }
   ],
   "source": [
    "model = MLPClassifier(solver=\"adam\", hidden_layer_sizes=(256, 128, 64, 32))\n",
    "model.fit(X_train, y_train)"
   ]
  },
  {
   "cell_type": "code",
   "execution_count": 12,
   "metadata": {},
   "outputs": [
    {
     "data": {
      "text/plain": [
       "0.5897023801484723"
      ]
     },
     "execution_count": 12,
     "metadata": {},
     "output_type": "execute_result"
    }
   ],
   "source": [
    "preds = model.predict(X_test)\n",
    "accuracy_score(preds, y_test)"
   ]
  },
  {
   "cell_type": "code",
   "execution_count": 13,
   "metadata": {},
   "outputs": [],
   "source": [
    "import pickle\n",
    "with open(\"deep2.nn\", 'wb') as f:\n",
    "    pickle.dump(model, f)"
   ]
  },
  {
   "cell_type": "code",
   "execution_count": 14,
   "metadata": {},
   "outputs": [
    {
     "data": {
      "text/plain": [
       "0    71862\n",
       "1    12052\n",
       "4    11961\n",
       "2    11901\n",
       "3    11831\n",
       "Name: y, dtype: int64"
      ]
     },
     "execution_count": 14,
     "metadata": {},
     "output_type": "execute_result"
    }
   ],
   "source": [
    "pd.DataFrame({\"y\":y_train}).y.value_counts()"
   ]
  },
  {
   "cell_type": "code",
   "execution_count": 15,
   "metadata": {},
   "outputs": [],
   "source": [
    "from sklearn.utils import resample"
   ]
  },
  {
   "cell_type": "markdown",
   "metadata": {},
   "source": [
    "https://elitedatascience.com/imbalanced-classes"
   ]
  },
  {
   "cell_type": "code",
   "execution_count": null,
   "metadata": {},
   "outputs": [],
   "source": [
    "df = None\n",
    "features.shape"
   ]
  },
  {
   "cell_type": "code",
   "execution_count": null,
   "metadata": {},
   "outputs": [],
   "source": [
    "df = pd.DataFrame(X_train) # pd.merge([pd.DataFrame(features), pd.Series(labels.T)])\n",
    "df[\"y\"] = y_train\n",
    "print(df.shape)\n",
    "df.y.value_counts()"
   ]
  },
  {
   "cell_type": "code",
   "execution_count": null,
   "metadata": {},
   "outputs": [],
   "source": [
    "majority = df[df.y == 0]\n",
    "minority = df[df.y != 0]\n",
    "\n",
    "min_upsampled = resample(minority, replace=True, n_samples=len(majority)*2)\n",
    "\n",
    "upsampled = pd.concat([majority.sample(len(majority)//2), min_upsampled])\n",
    "upsampled.y.value_counts()"
   ]
  },
  {
   "cell_type": "code",
   "execution_count": null,
   "metadata": {},
   "outputs": [],
   "source": [
    "upsampled_y = upsampled.y\n",
    "upsampled_X = upsampled.drop(\"y\", axis=1)"
   ]
  },
  {
   "cell_type": "code",
   "execution_count": null,
   "metadata": {},
   "outputs": [],
   "source": [
    "model = MLPClassifier(solver=\"sgd\") \n",
    "\n",
    "model.hidden_layer_sizes = (150,)\n",
    "\n",
    "model.fit(upsampled_X, upsampled_y)\n",
    "model.score(X_test, y_test)"
   ]
  },
  {
   "cell_type": "code",
   "execution_count": null,
   "metadata": {},
   "outputs": [],
   "source": [
    "pd.Series(model.predict(X_test)).value_counts()"
   ]
  },
  {
   "cell_type": "code",
   "execution_count": null,
   "metadata": {},
   "outputs": [],
   "source": []
  }
 ],
 "metadata": {
  "kernelspec": {
   "display_name": "Python 3",
   "language": "python",
   "name": "python3"
  },
  "language_info": {
   "codemirror_mode": {
    "name": "ipython",
    "version": 3
   },
   "file_extension": ".py",
   "mimetype": "text/x-python",
   "name": "python",
   "nbconvert_exporter": "python",
   "pygments_lexer": "ipython3",
   "version": "3.6.7"
  }
 },
 "nbformat": 4,
 "nbformat_minor": 2
}
