{
 "cells": [
  {
   "cell_type": "code",
   "execution_count": 1,
   "metadata": {},
   "outputs": [],
   "source": [
    "%load_ext autoreload\n",
    "%autoreload 2"
   ]
  },
  {
   "cell_type": "code",
   "execution_count": 2,
   "metadata": {},
   "outputs": [],
   "source": [
    "import os\n",
    "import numpy as np\n",
    "import pandas as pd\n",
    "import parse\n",
    "from model import *"
   ]
  },
  {
   "cell_type": "code",
   "execution_count": 3,
   "metadata": {},
   "outputs": [
    {
     "name": "stdout",
     "output_type": "stream",
     "text": [
      "Load Replay: train\\ts2018-halite-3-gold-replays_replay-20181020-192338+0000-1540063416-40-40-764395.hlt\n",
      "Load Basic Information\n",
      "Load Cell Information\n",
      "Load Player Ships\n",
      "Load Other Player Ships\n",
      "Load Droppoff Information\n",
      "Load Replay: train\\ts2018-halite-3-gold-replays_replay-20181020-192454+0000-1540063480-48-48-764423.hlt\n",
      "Load Basic Information\n",
      "Load Cell Information\n",
      "Load Player Ships\n",
      "Load Other Player Ships\n",
      "Load Droppoff Information\n",
      "Load Replay: train\\ts2018-halite-3-gold-replays_replay-20181020-201720+0000-1540066636-48-48-765185.hlt\n",
      "Load Basic Information\n",
      "Load Cell Information\n",
      "Load Player Ships\n",
      "Load Other Player Ships\n",
      "Load Droppoff Information\n",
      "Load Replay: train\\ts2018-halite-3-gold-replays_replay-20181020-201908+0000-1540066745-40-40-765218.hlt\n",
      "Load Basic Information\n",
      "Load Cell Information\n",
      "Load Player Ships\n",
      "Load Other Player Ships\n",
      "Load Droppoff Information\n",
      "Load Replay: train\\ts2018-halite-3-gold-replays_replay-20181020-202134+0000-1540066858-64-64-765263.hlt\n",
      "Load Basic Information\n",
      "Load Cell Information\n",
      "Load Player Ships\n",
      "Load Other Player Ships\n",
      "Load Droppoff Information\n",
      "Load Replay: train\\ts2018-halite-3-gold-replays_replay-20181020-202416+0000-1540067051-40-40-765295.hlt\n",
      "Load Basic Information\n",
      "Load Cell Information\n",
      "Load Player Ships\n",
      "Load Other Player Ships\n",
      "Load Droppoff Information\n",
      "Load Replay: train\\ts2018-halite-3-gold-replays_replay-20181020-202614+0000-1540067171-48-48-765359.hlt\n",
      "Load Basic Information\n",
      "Load Cell Information\n",
      "Load Player Ships\n",
      "Load Other Player Ships\n",
      "Load Droppoff Information\n",
      "Load Replay: train\\ts2018-halite-3-gold-replays_replay-20181020-203055+0000-1540067362-56-56-765475.hlt\n",
      "Load Basic Information\n",
      "Load Cell Information\n",
      "Load Player Ships\n",
      "Load Other Player Ships\n",
      "Load Droppoff Information\n",
      "Load Replay: train\\ts2018-halite-3-gold-replays_replay-20181020-203407+0000-1540067632-56-56-765576.hlt\n",
      "Load Basic Information\n",
      "Load Cell Information\n",
      "Load Player Ships\n",
      "Load Other Player Ships\n",
      "Load Droppoff Information\n",
      "Load Replay: train\\ts2018-halite-3-gold-replays_replay-20181020-203555+0000-1540067750-40-40-765632.hlt\n",
      "Load Basic Information\n",
      "Load Cell Information\n",
      "Load Player Ships\n",
      "Load Other Player Ships\n",
      "Load Droppoff Information\n",
      "Load Replay: train\\ts2018-halite-3-gold-replays_replay-20181020-204019+0000-1540068013-40-40-765729.hlt\n",
      "Load Basic Information\n",
      "Load Cell Information\n",
      "Load Player Ships\n",
      "Load Other Player Ships\n",
      "Load Droppoff Information\n",
      "Load Replay: train\\ts2018-halite-3-gold-replays_replay-20181020-210646+0000-1540069589-48-48-766197.hlt\n",
      "Load Basic Information\n",
      "Load Cell Information\n",
      "Load Player Ships\n",
      "Load Other Player Ships\n",
      "Load Droppoff Information\n",
      "Load Replay: train\\ts2018-halite-3-gold-replays_replay-20181020-210902+0000-1540069730-48-48-766231.hlt\n",
      "Load Basic Information\n",
      "Load Cell Information\n",
      "Load Player Ships\n",
      "Load Other Player Ships\n",
      "Load Droppoff Information\n",
      "Load Replay: train\\ts2018-halite-3-gold-replays_replay-20181020-210946+0000-1540069718-48-48-766245.hlt\n",
      "Load Basic Information\n",
      "Load Cell Information\n",
      "Load Player Ships\n",
      "Load Other Player Ships\n",
      "Load Droppoff Information\n",
      "Load Replay: train\\ts2018-halite-3-gold-replays_replay-20181020-211026+0000-1540069813-48-48-766277.hlt\n",
      "Load Basic Information\n",
      "Load Cell Information\n",
      "Load Player Ships\n",
      "Load Other Player Ships\n",
      "Load Droppoff Information\n",
      "Load Replay: train\\ts2018-halite-3-gold-replays_replay-20181020-211027+0000-1540069822-64-64-766279.hlt\n",
      "Load Basic Information\n",
      "Load Cell Information\n",
      "Load Player Ships\n",
      "Load Other Player Ships\n",
      "Load Droppoff Information\n",
      "Load Replay: train\\ts2018-halite-3-gold-replays_replay-20181020-211127+0000-1540069769-64-64-766310.hlt\n",
      "Load Basic Information\n",
      "Load Cell Information\n",
      "Load Player Ships\n",
      "Load Other Player Ships\n",
      "Load Droppoff Information\n",
      "Load Replay: train\\ts2018-halite-3-gold-replays_replay-20181020-211154+0000-1540069857-48-48-766314.hlt\n",
      "Load Basic Information\n",
      "Load Cell Information\n",
      "Load Player Ships\n",
      "Load Other Player Ships\n",
      "Load Droppoff Information\n",
      "Load Replay: train\\ts2018-halite-3-gold-replays_replay-20181020-211226+0000-1540069939-56-56-766321.hlt\n",
      "Load Basic Information\n",
      "Load Cell Information\n",
      "Load Player Ships\n",
      "Load Other Player Ships\n",
      "Load Droppoff Information\n",
      "Load Replay: train\\ts2018-halite-3-gold-replays_replay-20181020-211537+0000-1540070133-32-32-766384.hlt\n",
      "Load Basic Information\n",
      "Load Cell Information\n",
      "Load Player Ships\n",
      "Load Other Player Ships\n",
      "Load Droppoff Information\n"
     ]
    }
   ],
   "source": [
    "# replay = os.path.join( \"train\", os.listdir(\"train\")[0])\n",
    "# data = parse.parse_replay_file(replay)\n",
    "\n",
    "data = parse.parse_replay_folder(\"train\", \"teccles\")"
   ]
  },
  {
   "cell_type": "code",
   "execution_count": 4,
   "metadata": {},
   "outputs": [
    {
     "name": "stdout",
     "output_type": "stream",
     "text": [
      "Processing Game States\n",
      "Processing Game States\n",
      "Processing Game States\n",
      "Processing Game States\n",
      "Processing Game States\n",
      "Processing Game States\n",
      "Processing Game States\n",
      "Processing Game States\n",
      "Processing Game States\n",
      "Processing Game States\n",
      "Processing Game States\n",
      "Processing Game States\n",
      "Processing Game States\n",
      "Processing Game States\n",
      "Processing Game States\n",
      "Processing Game States\n",
      "Processing Game States\n",
      "Processing Game States\n",
      "Processing Game States\n",
      "Processing Game States\n"
     ]
    }
   ],
   "source": [
    "game_states = []\n",
    "for player_data in data:\n",
    "    game_states.append(HaliteModel.process_game_states(player_data))\n",
    "        \n",
    "game_states = np.array(game_states)"
   ]
  },
  {
   "cell_type": "code",
   "execution_count": 5,
   "metadata": {
    "scrolled": true
   },
   "outputs": [
    {
     "data": {
      "text/plain": [
       "(20,)"
      ]
     },
     "execution_count": 5,
     "metadata": {},
     "output_type": "execute_result"
    }
   ],
   "source": [
    "game_states.shape"
   ]
  },
  {
   "cell_type": "code",
   "execution_count": 7,
   "metadata": {
    "scrolled": false
   },
   "outputs": [
    {
     "name": "stdout",
     "output_type": "stream",
     "text": [
      "Game 1/20\n",
      "Generating Training Data\n"
     ]
    },
    {
     "data": {
      "application/vnd.jupyter.widget-view+json": {
       "model_id": "1ec3f14218aa4a58b715d9c419c3630b",
       "version_major": 2,
       "version_minor": 0
      },
      "text/plain": [
       "HBox(children=(IntProgress(value=0, max=2824), HTML(value='')))"
      ]
     },
     "metadata": {},
     "output_type": "display_data"
    },
    {
     "name": "stdout",
     "output_type": "stream",
     "text": [
      "\n",
      "0\n",
      "Game 2/20\n",
      "Generating Training Data\n"
     ]
    },
    {
     "data": {
      "application/vnd.jupyter.widget-view+json": {
       "model_id": "29f2da1d6fb9436a89a4a31c81e5cf79",
       "version_major": 2,
       "version_minor": 0
      },
      "text/plain": [
       "HBox(children=(IntProgress(value=0, max=5098), HTML(value='')))"
      ]
     },
     "metadata": {},
     "output_type": "display_data"
    },
    {
     "name": "stdout",
     "output_type": "stream",
     "text": [
      "\n",
      "1\n",
      "Game 3/20\n",
      "Generating Training Data\n"
     ]
    },
    {
     "data": {
      "application/vnd.jupyter.widget-view+json": {
       "model_id": "9d236253fcc3423da6c83f964cea12b4",
       "version_major": 2,
       "version_minor": 0
      },
      "text/plain": [
       "HBox(children=(IntProgress(value=0, max=2340), HTML(value='')))"
      ]
     },
     "metadata": {},
     "output_type": "display_data"
    },
    {
     "name": "stdout",
     "output_type": "stream",
     "text": [
      "\n",
      "2\n",
      "Game 4/20\n",
      "Generating Training Data\n"
     ]
    },
    {
     "data": {
      "application/vnd.jupyter.widget-view+json": {
       "model_id": "b286ce64ae554a94acba707cbdc2da00",
       "version_major": 2,
       "version_minor": 0
      },
      "text/plain": [
       "HBox(children=(IntProgress(value=0, max=3978), HTML(value='')))"
      ]
     },
     "metadata": {},
     "output_type": "display_data"
    },
    {
     "name": "stdout",
     "output_type": "stream",
     "text": [
      "\n",
      "3\n",
      "Game 5/20\n",
      "Generating Training Data\n"
     ]
    },
    {
     "data": {
      "application/vnd.jupyter.widget-view+json": {
       "model_id": "5f42ae0c6d014010bab6139b89a06abd",
       "version_major": 2,
       "version_minor": 0
      },
      "text/plain": [
       "HBox(children=(IntProgress(value=0, max=4998), HTML(value='')))"
      ]
     },
     "metadata": {},
     "output_type": "display_data"
    },
    {
     "name": "stdout",
     "output_type": "stream",
     "text": [
      "\n",
      "4\n",
      "Game 6/20\n",
      "Generating Training Data\n"
     ]
    },
    {
     "data": {
      "application/vnd.jupyter.widget-view+json": {
       "model_id": "5765f2499f2c4d978bb2a8eeef17b8e6",
       "version_major": 2,
       "version_minor": 0
      },
      "text/plain": [
       "HBox(children=(IntProgress(value=0, max=1785), HTML(value='')))"
      ]
     },
     "metadata": {},
     "output_type": "display_data"
    },
    {
     "name": "stdout",
     "output_type": "stream",
     "text": [
      "\n",
      "5\n",
      "Game 7/20\n",
      "Generating Training Data\n"
     ]
    },
    {
     "data": {
      "application/vnd.jupyter.widget-view+json": {
       "model_id": "a5f0f83bd34847bf921f9eb1a4f50a91",
       "version_major": 2,
       "version_minor": 0
      },
      "text/plain": [
       "HBox(children=(IntProgress(value=0, max=5918), HTML(value='')))"
      ]
     },
     "metadata": {},
     "output_type": "display_data"
    },
    {
     "name": "stdout",
     "output_type": "stream",
     "text": [
      "\n",
      "6\n",
      "Game 8/20\n",
      "Generating Training Data\n"
     ]
    },
    {
     "data": {
      "application/vnd.jupyter.widget-view+json": {
       "model_id": "a07328c4333e4e37a07b48272efcfc6f",
       "version_major": 2,
       "version_minor": 0
      },
      "text/plain": [
       "HBox(children=(IntProgress(value=0, max=4732), HTML(value='')))"
      ]
     },
     "metadata": {},
     "output_type": "display_data"
    },
    {
     "name": "stdout",
     "output_type": "stream",
     "text": [
      "\n",
      "7\n",
      "Game 9/20\n",
      "Generating Training Data\n"
     ]
    },
    {
     "data": {
      "application/vnd.jupyter.widget-view+json": {
       "model_id": "e9466b241b3e4c5e9953f141b1ef5fc3",
       "version_major": 2,
       "version_minor": 0
      },
      "text/plain": [
       "HBox(children=(IntProgress(value=0, max=4020), HTML(value='')))"
      ]
     },
     "metadata": {},
     "output_type": "display_data"
    },
    {
     "name": "stdout",
     "output_type": "stream",
     "text": [
      "\n",
      "8\n",
      "Game 10/20\n",
      "Generating Training Data\n"
     ]
    },
    {
     "data": {
      "application/vnd.jupyter.widget-view+json": {
       "model_id": "1645060e35754acf92448d00062abedb",
       "version_major": 2,
       "version_minor": 0
      },
      "text/plain": [
       "HBox(children=(IntProgress(value=0, max=4070), HTML(value='')))"
      ]
     },
     "metadata": {},
     "output_type": "display_data"
    },
    {
     "name": "stdout",
     "output_type": "stream",
     "text": [
      "\n",
      "9\n",
      "Game 11/20\n",
      "Generating Training Data\n"
     ]
    },
    {
     "data": {
      "application/vnd.jupyter.widget-view+json": {
       "model_id": "8420bf94248e4595ba3ae32b869e7231",
       "version_major": 2,
       "version_minor": 0
      },
      "text/plain": [
       "HBox(children=(IntProgress(value=0, max=2537), HTML(value='')))"
      ]
     },
     "metadata": {},
     "output_type": "display_data"
    },
    {
     "name": "stdout",
     "output_type": "stream",
     "text": [
      "\n",
      "10\n",
      "Game 12/20\n",
      "Generating Training Data\n"
     ]
    },
    {
     "data": {
      "application/vnd.jupyter.widget-view+json": {
       "model_id": "4765041e84824f64bfb3967d3e245bf6",
       "version_major": 2,
       "version_minor": 0
      },
      "text/plain": [
       "HBox(children=(IntProgress(value=0, max=4810), HTML(value='')))"
      ]
     },
     "metadata": {},
     "output_type": "display_data"
    },
    {
     "name": "stdout",
     "output_type": "stream",
     "text": [
      "\n",
      "11\n",
      "Game 13/20\n",
      "Generating Training Data\n"
     ]
    },
    {
     "data": {
      "application/vnd.jupyter.widget-view+json": {
       "model_id": "e1a4611c0b6d464b8309f2a0b2cb0444",
       "version_major": 2,
       "version_minor": 0
      },
      "text/plain": [
       "HBox(children=(IntProgress(value=0, max=2214), HTML(value='')))"
      ]
     },
     "metadata": {},
     "output_type": "display_data"
    },
    {
     "name": "stdout",
     "output_type": "stream",
     "text": [
      "\n",
      "12\n",
      "Game 14/20\n",
      "Generating Training Data\n"
     ]
    },
    {
     "data": {
      "application/vnd.jupyter.widget-view+json": {
       "model_id": "a5ad004678e74f9090ee244378fb7e68",
       "version_major": 2,
       "version_minor": 0
      },
      "text/plain": [
       "HBox(children=(IntProgress(value=0, max=1836), HTML(value='')))"
      ]
     },
     "metadata": {},
     "output_type": "display_data"
    },
    {
     "name": "stdout",
     "output_type": "stream",
     "text": [
      "\n",
      "13\n",
      "Game 15/20\n",
      "Generating Training Data\n"
     ]
    },
    {
     "data": {
      "application/vnd.jupyter.widget-view+json": {
       "model_id": "a94df5e2a07f4beaa541f67dfd2dfd89",
       "version_major": 2,
       "version_minor": 0
      },
      "text/plain": [
       "HBox(children=(IntProgress(value=0, max=2567), HTML(value='')))"
      ]
     },
     "metadata": {},
     "output_type": "display_data"
    },
    {
     "name": "stdout",
     "output_type": "stream",
     "text": [
      "\n",
      "14\n",
      "Game 16/20\n",
      "Generating Training Data\n"
     ]
    },
    {
     "data": {
      "application/vnd.jupyter.widget-view+json": {
       "model_id": "d62079b406e54adc8f721d26442079d2",
       "version_major": 2,
       "version_minor": 0
      },
      "text/plain": [
       "HBox(children=(IntProgress(value=0, max=5272), HTML(value='')))"
      ]
     },
     "metadata": {},
     "output_type": "display_data"
    },
    {
     "name": "stdout",
     "output_type": "stream",
     "text": [
      "\n",
      "15\n",
      "Game 17/20\n",
      "Generating Training Data\n"
     ]
    },
    {
     "data": {
      "application/vnd.jupyter.widget-view+json": {
       "model_id": "d34d268005d445b2b90aef78ffa91231",
       "version_major": 2,
       "version_minor": 0
      },
      "text/plain": [
       "HBox(children=(IntProgress(value=0, max=4127), HTML(value='')))"
      ]
     },
     "metadata": {},
     "output_type": "display_data"
    },
    {
     "name": "stdout",
     "output_type": "stream",
     "text": [
      "\n",
      "16\n",
      "Game 18/20\n",
      "Generating Training Data\n"
     ]
    },
    {
     "data": {
      "application/vnd.jupyter.widget-view+json": {
       "model_id": "3918656b883246aaac5eef0f54e04e2e",
       "version_major": 2,
       "version_minor": 0
      },
      "text/plain": [
       "HBox(children=(IntProgress(value=0, max=4403), HTML(value='')))"
      ]
     },
     "metadata": {},
     "output_type": "display_data"
    },
    {
     "name": "stdout",
     "output_type": "stream",
     "text": [
      "\n",
      "17\n",
      "Game 19/20\n",
      "Generating Training Data\n"
     ]
    },
    {
     "data": {
      "application/vnd.jupyter.widget-view+json": {
       "model_id": "63d2a7c3b3004e999bdfe453570999c7",
       "version_major": 2,
       "version_minor": 0
      },
      "text/plain": [
       "HBox(children=(IntProgress(value=0, max=2862), HTML(value='')))"
      ]
     },
     "metadata": {},
     "output_type": "display_data"
    },
    {
     "name": "stdout",
     "output_type": "stream",
     "text": [
      "\n",
      "18\n",
      "Game 20/20\n",
      "Generating Training Data\n"
     ]
    },
    {
     "data": {
      "application/vnd.jupyter.widget-view+json": {
       "model_id": "b69a11e64e76492e8a543ca75f6dccc4",
       "version_major": 2,
       "version_minor": 0
      },
      "text/plain": [
       "HBox(children=(IntProgress(value=0, max=1572), HTML(value='')))"
      ]
     },
     "metadata": {},
     "output_type": "display_data"
    },
    {
     "name": "stdout",
     "output_type": "stream",
     "text": [
      "\n",
      "19\n"
     ]
    }
   ],
   "source": [
    "m = HaliteModel(data=data)\n",
    "features, labels = [], []\n",
    "\n",
    "for i, game in enumerate(game_states):\n",
    "    print(f\"Game {i+1}/{len(game_states)}\")\n",
    "    f, l = m.generate_training_data(game)\n",
    "    \n",
    "    features.extend(f)\n",
    "    labels.extend(l)\n",
    "    print(i)\n",
    "    "
   ]
  },
  {
   "cell_type": "code",
   "execution_count": 8,
   "metadata": {},
   "outputs": [
    {
     "data": {
      "text/plain": [
       "((213176, 78), (213176,))"
      ]
     },
     "execution_count": 8,
     "metadata": {},
     "output_type": "execute_result"
    }
   ],
   "source": [
    "features = np.array(features)\n",
    "labels = np.array(labels)\n",
    "\n",
    "features.shape, labels.shape"
   ]
  },
  {
   "cell_type": "code",
   "execution_count": 9,
   "metadata": {},
   "outputs": [],
   "source": [
    "from sklearn.neural_network import MLPClassifier\n",
    "from sklearn.model_selection import train_test_split\n",
    "from sklearn.metrics import accuracy_score"
   ]
  },
  {
   "cell_type": "code",
   "execution_count": 10,
   "metadata": {},
   "outputs": [],
   "source": [
    "X_train, X_test, y_train, y_test = train_test_split(features, labels, test_size=0.65)"
   ]
  },
  {
   "cell_type": "markdown",
   "metadata": {},
   "source": [
    "No noticeable improvement found when regularizing."
   ]
  },
  {
   "cell_type": "code",
   "execution_count": 12,
   "metadata": {},
   "outputs": [
    {
     "name": "stderr",
     "output_type": "stream",
     "text": [
      "C:\\ProgramData\\Anaconda\\lib\\site-packages\\sklearn\\neural_network\\multilayer_perceptron.py:562: ConvergenceWarning: Stochastic Optimizer: Maximum iterations (200) reached and the optimization hasn't converged yet.\n",
      "  % self.max_iter, ConvergenceWarning)\n"
     ]
    },
    {
     "data": {
      "text/plain": [
       "MLPClassifier(activation='relu', alpha=0.0001, batch_size='auto', beta_1=0.9,\n",
       "       beta_2=0.999, early_stopping=False, epsilon=1e-08,\n",
       "       hidden_layer_sizes=(256, 128, 64, 32), learning_rate='constant',\n",
       "       learning_rate_init=0.001, max_iter=200, momentum=0.9,\n",
       "       n_iter_no_change=10, nesterovs_momentum=True, power_t=0.5,\n",
       "       random_state=None, shuffle=True, solver='adam', tol=0.0001,\n",
       "       validation_fraction=0.1, verbose=False, warm_start=False)"
      ]
     },
     "execution_count": 12,
     "metadata": {},
     "output_type": "execute_result"
    }
   ],
   "source": [
    "model = MLPClassifier(solver=\"adam\", hidden_layer_sizes=(256, 128, 64, 32), max_iter=1000, learning_rate_init=1e-5)\n",
    "model.fit(X_train, y_train)"
   ]
  },
  {
   "cell_type": "code",
   "execution_count": 13,
   "metadata": {},
   "outputs": [
    {
     "data": {
      "text/plain": [
       "0.6148869016307207"
      ]
     },
     "execution_count": 13,
     "metadata": {},
     "output_type": "execute_result"
    }
   ],
   "source": [
    "preds = model.predict(X_test)\n",
    "accuracy_score(preds, y_test)"
   ]
  },
  {
   "cell_type": "code",
   "execution_count": 42,
   "metadata": {},
   "outputs": [],
   "source": [
    "import pickle\n",
    "with open(\"deep3.nn\", 'wb') as f:\n",
    "    pickle.dump(model, f)"
   ]
  },
  {
   "cell_type": "code",
   "execution_count": 15,
   "metadata": {},
   "outputs": [
    {
     "data": {
      "text/plain": [
       "0    12925\n",
       "2     1964\n",
       "4     1913\n",
       "3     1873\n",
       "1     1797\n",
       "Name: y, dtype: int64"
      ]
     },
     "execution_count": 15,
     "metadata": {},
     "output_type": "execute_result"
    }
   ],
   "source": [
    "pd.DataFrame({\"y\":y_train}).y.value_counts()"
   ]
  },
  {
   "cell_type": "code",
   "execution_count": 11,
   "metadata": {},
   "outputs": [],
   "source": [
    "from sklearn.utils import resample"
   ]
  },
  {
   "cell_type": "markdown",
   "metadata": {},
   "source": [
    "https://elitedatascience.com/imbalanced-classes"
   ]
  },
  {
   "cell_type": "code",
   "execution_count": 12,
   "metadata": {},
   "outputs": [
    {
     "data": {
      "text/plain": [
       "(213176, 78)"
      ]
     },
     "execution_count": 12,
     "metadata": {},
     "output_type": "execute_result"
    }
   ],
   "source": [
    "df = None\n",
    "features.shape"
   ]
  },
  {
   "cell_type": "code",
   "execution_count": 13,
   "metadata": {},
   "outputs": [
    {
     "name": "stdout",
     "output_type": "stream",
     "text": [
      "(74611, 79)\n"
     ]
    },
    {
     "data": {
      "text/plain": [
       "0    45202\n",
       "3     7421\n",
       "4     7360\n",
       "2     7350\n",
       "1     7278\n",
       "Name: y, dtype: int64"
      ]
     },
     "execution_count": 13,
     "metadata": {},
     "output_type": "execute_result"
    }
   ],
   "source": [
    "df = pd.DataFrame(X_train) # pd.merge([pd.DataFrame(features), pd.Series(labels.T)])\n",
    "df[\"y\"] = y_train\n",
    "print(df.shape)\n",
    "df.y.value_counts()"
   ]
  },
  {
   "cell_type": "code",
   "execution_count": 14,
   "metadata": {},
   "outputs": [
    {
     "data": {
      "text/plain": [
       "3    22918\n",
       "4    22763\n",
       "0    22601\n",
       "2    22386\n",
       "1    22337\n",
       "Name: y, dtype: int64"
      ]
     },
     "execution_count": 14,
     "metadata": {},
     "output_type": "execute_result"
    }
   ],
   "source": [
    "majority = df[df.y == 0]\n",
    "minority = df[df.y != 0]\n",
    "\n",
    "min_upsampled = resample(minority, replace=True, n_samples=len(majority)*2)\n",
    "\n",
    "upsampled = pd.concat([majority.sample(len(majority)//2), min_upsampled])\n",
    "upsampled.y.value_counts()"
   ]
  },
  {
   "cell_type": "code",
   "execution_count": 15,
   "metadata": {},
   "outputs": [
    {
     "name": "stdout",
     "output_type": "stream",
     "text": [
      "(138565, 79)\n"
     ]
    },
    {
     "data": {
      "text/plain": [
       "0    84006\n",
       "1    13714\n",
       "2    13642\n",
       "4    13632\n",
       "3    13571\n",
       "Name: y, dtype: int64"
      ]
     },
     "execution_count": 15,
     "metadata": {},
     "output_type": "execute_result"
    }
   ],
   "source": [
    "upsampled_y = upsampled.y\n",
    "upsampled_X = upsampled.drop(\"y\", axis=1)\n",
    "\n",
    "\n",
    "dfa = pd.DataFrame(X_test) # pd.merge([pd.DataFrame(features), pd.Series(labels.T)])\n",
    "dfa[\"y\"] = y_test\n",
    "print(dfa.shape)\n",
    "dfa.y.value_counts()\n"
   ]
  },
  {
   "cell_type": "code",
   "execution_count": 67,
   "metadata": {},
   "outputs": [
    {
     "data": {
      "text/plain": [
       "0.6240283145872237"
      ]
     },
     "execution_count": 67,
     "metadata": {},
     "output_type": "execute_result"
    }
   ],
   "source": [
    "model = MLPClassifier(solver=\"adam\", hidden_layer_sizes=(100, 50), max_iter=1000, learning_rate_init=1e-3)\n",
    "\n",
    "model.fit(upsampled_X, upsampled_y)\n",
    "model.score(X_test, y_test)"
   ]
  },
  {
   "cell_type": "code",
   "execution_count": 72,
   "metadata": {
    "scrolled": false
   },
   "outputs": [
    {
     "name": "stdout",
     "output_type": "stream",
     "text": [
      "5\n",
      "0.5921454524398894\n",
      "10\n",
      "0.6054993413529045\n",
      "50\n",
      "0.6105079544303065\n",
      "75\n",
      "0.6330539511587846\n",
      "100\n",
      "0.6514454046698803\n",
      "250\n",
      "0.6685629912711165\n",
      "500\n",
      "0.6732458997408839\n",
      "1000\n",
      "0.6675714016878737\n"
     ]
    }
   ],
   "source": [
    "\n",
    "x = [5, 10, 50 ,75,100,250, 500, 1000]\n",
    "for i in x:\n",
    "    print(i)\n",
    "    model = MLPClassifier(solver=\"adam\", hidden_layer_sizes=(i, i), max_iter=1000, learning_rate_init=1e-3)\n",
    "\n",
    "    model.fit(upsampled_X, upsampled_y)\n",
    "    import pickle\n",
    "    with open(\"width\"+str(i)+\".nn\", 'wb') as f:\n",
    "        pickle.dump(model, f)\n",
    "    print(model.score(X_test, y_test))"
   ]
  },
  {
   "cell_type": "code",
   "execution_count": null,
   "metadata": {},
   "outputs": [],
   "source": [
    "pd.Series(model.predict(X_test)).value_counts()"
   ]
  },
  {
   "cell_type": "code",
   "execution_count": null,
   "metadata": {},
   "outputs": [],
   "source": [
    "import pickle\n",
    "with open(\"deep3.nn\", 'wb') as f:\n",
    "    pickle.dump(model, f)"
   ]
  },
  {
   "cell_type": "code",
   "execution_count": 19,
   "metadata": {},
   "outputs": [
    {
     "name": "stdout",
     "output_type": "stream",
     "text": [
      "1\n",
      "0.6008443690686681\n",
      "2\n",
      "0.5983329123516039\n",
      "5\n",
      "0.5939667304153285\n",
      "10\n",
      "0.5941543679861437\n",
      "25\n",
      "0.5901345938729117\n"
     ]
    }
   ],
   "source": [
    "x = [1,2,5,10,25]\n",
    "for i in x:\n",
    "    print(i)\n",
    "    model = MLPClassifier(solver=\"adam\", hidden_layer_sizes=(100)*i, max_iter=1000, learning_rate_init=1e-3)\n",
    "\n",
    "    model.fit(upsampled_X, upsampled_y)\n",
    "    import pickle\n",
    "    with open(\"depth\"+str(i)+\".nn\", 'wb') as f:\n",
    "        pickle.dump(model, f)\n",
    "    print(model.score(X_test, y_test))"
   ]
  },
  {
   "cell_type": "code",
   "execution_count": null,
   "metadata": {},
   "outputs": [],
   "source": []
  }
 ],
 "metadata": {
  "kernelspec": {
   "display_name": "Python 3",
   "language": "python",
   "name": "python3"
  },
  "language_info": {
   "codemirror_mode": {
    "name": "ipython",
    "version": 3
   },
   "file_extension": ".py",
   "mimetype": "text/x-python",
   "name": "python",
   "nbconvert_exporter": "python",
   "pygments_lexer": "ipython3",
   "version": "3.6.7"
  }
 },
 "nbformat": 4,
 "nbformat_minor": 2
}
